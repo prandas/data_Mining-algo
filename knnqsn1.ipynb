{
  "nbformat": 4,
  "nbformat_minor": 0,
  "metadata": {
    "colab": {
      "name": "knnqsn1.ipynb",
      "provenance": [],
      "collapsed_sections": []
    },
    "kernelspec": {
      "name": "python3",
      "display_name": "Python 3"
    }
  },
  "cells": [
    {
      "cell_type": "code",
      "metadata": {
        "id": "150a77yHYDST"
      },
      "source": [
        "import numpy as np\r\n",
        "import matplotlib.pyplot as plt\r\n",
        "from keras.layers import Dense, Flatten\r\n",
        "from keras.models import Sequential\r\n",
        "from keras.utils import to_categorical\r\n",
        "from keras.datasets import mnist"
      ],
      "execution_count": 3,
      "outputs": []
    },
    {
      "cell_type": "code",
      "metadata": {
        "colab": {
          "base_uri": "https://localhost:8080/"
        },
        "id": "JmK4fizWYHah",
        "outputId": "f8db01a1-ab9f-4b6b-9226-c889db4aa8ba"
      },
      "source": [
        "(X_train, y_train), (X_test, y_test) = mnist.load_data()"
      ],
      "execution_count": 4,
      "outputs": [
        {
          "output_type": "stream",
          "text": [
            "Downloading data from https://storage.googleapis.com/tensorflow/tf-keras-datasets/mnist.npz\n",
            "11493376/11490434 [==============================] - 0s 0us/step\n"
          ],
          "name": "stdout"
        }
      ]
    },
    {
      "cell_type": "code",
      "metadata": {
        "colab": {
          "base_uri": "https://localhost:8080/"
        },
        "id": "mLrwXlr4g7Bf",
        "outputId": "2b0c6210-34ea-4e7a-8a5f-862bf8156eb0"
      },
      "source": [
        "from collections import Counter\r\n",
        "from sklearn.datasets import fetch_openml\r\n",
        "import matplotlib.pyplot as plt\r\n",
        "import pandas as pd\r\n",
        "import time\r\n",
        "import numpy as np\r\n",
        "import ssl\r\n",
        "ssl._create_default_https_context = ssl._create_unverified_context\r\n",
        "\r\n",
        "X, y = fetch_openml('mnist_784', version=1, return_X_y=True)\r\n",
        "print('Overall # of samples is', y.shape[0])\r\n",
        "print('Size of the features is:', X.shape)"
      ],
      "execution_count": 2,
      "outputs": [
        {
          "output_type": "stream",
          "text": [
            "Overall # of samples is 70000\n",
            "Size of the features is: (70000, 784)\n"
          ],
          "name": "stdout"
        }
      ]
    },
    {
      "cell_type": "code",
      "metadata": {
        "colab": {
          "base_uri": "https://localhost:8080/",
          "height": 281
        },
        "id": "e_mHlgTVhPxq",
        "outputId": "d422cdd3-d095-4cd0-877d-b69a112068f7"
      },
      "source": [
        "def show_digit(x_vec, label):\r\n",
        "    x_mat = x_vec.reshape(28, 28)\r\n",
        "    plt.imshow(x_mat)\r\n",
        "    plt.title('Label of this digit is: ' + label)\r\n",
        "    plt.show()\r\n",
        "\r\n",
        "show_digit(X[0], y[0])"
      ],
      "execution_count": 3,
      "outputs": [
        {
          "output_type": "display_data",
          "data": {
            "image/png": "[encoded data removed]",
            "text/plain": [
              "<Figure size 432x288 with 1 Axes>"
            ]
          },
          "metadata": {
            "tags": [],
            "needs_background": "light"
          }
        }
      ]
    },
    {
      "cell_type": "code",
      "metadata": {
        "id": "3DFkoy5QiEOB"
      },
      "source": [
        "n_train = 600\r\n",
        "n_test = 100\r\n",
        "split_loc = 60000 # train and test split at location of 60k\r\n",
        "\r\n",
        "X_train, y_train = X[:n_train,:], y[:n_train]\r\n",
        "X_test, y_test = X[split_loc:split_loc + n_test, :] , y[split_loc:split_loc+n_test]"
      ],
      "execution_count": 11,
      "outputs": []
    },
    {
      "cell_type": "code",
      "metadata": {
        "id": "e5dwK_XniJXH"
      },
      "source": [
        "# converting the above numpy arrays to pandas dataframe\r\n",
        "df_train = pd.DataFrame(X_train)\r\n",
        "df_test = pd.DataFrame(X_test)"
      ],
      "execution_count": 12,
      "outputs": []
    },
    {
      "cell_type": "code",
      "metadata": {
        "id": "n58Mwqk0Ci6m"
      },
      "source": [
        ""
      ],
      "execution_count": null,
      "outputs": []
    },
    {
      "cell_type": "code",
      "metadata": {
        "id": "An7LWW28iNMo"
      },
      "source": [
        "y_train_df = pd.DataFrame(data = y_train, columns = ['class'])\r\n",
        "y_test_df = pd.DataFrame(data = y_test, columns = ['class'])"
      ],
      "execution_count": 13,
      "outputs": []
    },
    {
      "cell_type": "code",
      "metadata": {
        "colab": {
          "base_uri": "https://localhost:8080/",
          "height": 292
        },
        "id": "FPmKTFgqiQ8r",
        "outputId": "b8778b5c-3964-4828-b073-13af4e25b37a"
      },
      "source": [
        "y_train_df['class'].value_counts().plot(kind = 'bar', colormap = 'Paired')\r\n",
        "plt.xlabel('Class')\r\n",
        "plt.ylabel('Number of samples for each category')\r\n",
        "plt.title('Training set')\r\n",
        "plt.show()"
      ],
      "execution_count": 7,
      "outputs": [
        {
          "output_type": "display_data",
          "data": {
            "image/png": "[encoded data removed]",
            "text/plain": [
              "<Figure size 432x288 with 1 Axes>"
            ]
          },
          "metadata": {
            "tags": [],
            "needs_background": "light"
          }
        }
      ]
    },
    {
      "cell_type": "code",
      "metadata": {
        "colab": {
          "base_uri": "https://localhost:8080/",
          "height": 292
        },
        "id": "gTvdaMtqiTOe",
        "outputId": "2dfaaa8f-3fc7-4567-e4f5-7e77df0fb82b"
      },
      "source": [
        "y_test_df['class'].value_counts().plot(kind = 'bar', colormap = 'Paired')\r\n",
        "plt.xlabel('Class')\r\n",
        "plt.ylabel('Number of samples for each category')\r\n",
        "plt.title('Testing set')\r\n",
        "plt.show()"
      ],
      "execution_count": 8,
      "outputs": [
        {
          "output_type": "display_data",
          "data": {
            "image/png": "[encoded data removed]",
            "text/plain": [
              "<Figure size 432x288 with 1 Axes>"
            ]
          },
          "metadata": {
            "tags": [],
            "needs_background": "light"
          }
        }
      ]
    },
    {
      "cell_type": "code",
      "metadata": {
        "id": "GDcSCao-iY6T"
      },
      "source": [
        "# calculate euclidean distance\r\n",
        "def dist(x,y):   \r\n",
        "    return np.sqrt(np.sum((x-y)**2))"
      ],
      "execution_count": 14,
      "outputs": []
    },
    {
      "cell_type": "code",
      "metadata": {
        "id": "KmHWtiaZidk3"
      },
      "source": [
        "# a list to store euclidean distance\r\n",
        "train_distance_list = []\r\n",
        "# a list to store index\r\n",
        "train_ind_counter = []\r\n",
        "# a list with all the K values\r\n",
        "k_values = [3,5,7]\r\n",
        "# creating a list of list for storing the predictions for each value of K\r\n",
        "train_pred_lists = [[] for _ in range(len(k_values))]\r\n",
        "\r\n",
        "\r\n",
        "# training the knn model\r\n",
        "# iterating through the training set\r\n",
        "for i in range(0,600):\r\n",
        "    train_vec_one = df_train.iloc[i]\r\n",
        "    # iterating through the training set\r\n",
        "    for j in range(0,600):\r\n",
        "        train_vec = df_train.iloc[j]\r\n",
        "        # calculate euclidean distance by calling function dist\r\n",
        "        euclidean_dist = dist(train_vec_one,train_vec)\r\n",
        "        train_distance_list.append(euclidean_dist)\r\n",
        "        # increment the index\r\n",
        "        train_ind_counter.append(j)\r\n",
        "    \r\n",
        "    # dictionary to store all the results\r\n",
        "    d = {'index':train_ind_counter, 'distance': train_distance_list}\r\n",
        "    # convert dictionary to dataframe\r\n",
        "    df = pd.DataFrame(d, columns = ['index', 'distance'])\r\n",
        "    # sort in ascending order by euclidean distance\r\n",
        "    df_sorted = df.sort_values(by = 'distance')\r\n",
        "\r\n",
        "    # iterate through each value of K\r\n",
        "    for K in range(len(k_values)):\r\n",
        "        index_list = list(df_sorted['index'][:k_values[K]])\r\n",
        "        distance = list(df_sorted['distance'][:k_values[K]])\r\n",
        "        res_list = [y_train[i] for i in index_list]\r\n",
        "        # now get the count of the max class in result list\r\n",
        "        pred_value = max(res_list,key=res_list.count)\r\n",
        "        # storing every prediction for K in respective list\r\n",
        "        train_pred_lists[K].append(pred_value)\r\n",
        "    \r\n",
        "    # reinitialize the list\r\n",
        "    train_ind_counter = []\r\n",
        "    train_distance_list = []"
      ],
      "execution_count": 25,
      "outputs": []
    },
    {
      "cell_type": "code",
      "metadata": {
        "id": "R2xFL1m5itxC"
      },
      "source": [
        "test_distance_list = []\r\n",
        "# a list to store index\r\n",
        "test_ind_counter = []\r\n",
        "# creating a list of list for storing the predictions for each value of K\r\n",
        "test_pred_lists = [[] for _ in range(len(k_values))]\r\n",
        "\r\n",
        "# testing the knn model\r\n",
        "# iterating through the test set\r\n",
        "for i in range(0,100):\r\n",
        "    test_vec = df_test.iloc[i]\r\n",
        "    # iterating through the training set\r\n",
        "    for j in range(0,600): \r\n",
        "        train_vec = df_train.iloc[j]\r\n",
        "        # calculate euclidean distance\r\n",
        "        euclidean_dist = dist(test_vec,train_vec)\r\n",
        "        test_distance_list.append(euclidean_dist)\r\n",
        "        # increment the index\r\n",
        "        test_ind_counter.append(j)\r\n",
        "    \r\n",
        "    # dictionary to store all the results\r\n",
        "    d = {'index':test_ind_counter, 'distance': test_distance_list}\r\n",
        "    # convert dictionary to dataframe\r\n",
        "    df = pd.DataFrame(d, columns = ['index', 'distance'])\r\n",
        "    # sort in ascending order by euclidean distance\r\n",
        "    df_sorted = df.sort_values(by = 'distance')\r\n",
        "\r\n",
        "    # iterate through each value of K\r\n",
        "    for K in range(len(k_values)):\r\n",
        "        index_list = list(df_sorted['index'][:k_values[K]])\r\n",
        "        distance = list(df_sorted['distance'][:k_values[K]])\r\n",
        "        res_list = [train_pred_lists[K][ind] for ind in index_list]\r\n",
        "        # now get the count of the max class in result list\r\n",
        "        pred_value = max(res_list,key=res_list.count)\r\n",
        "        # storing every prediction in respective list\r\n",
        "        test_pred_lists[K].append(pred_value)\r\n",
        "        \r\n",
        "    # # reinitialize the list   \r\n",
        "    test_ind_counter = []\r\n",
        "    test_distance_list = []\r\n"
      ],
      "execution_count": 27,
      "outputs": []
    },
    {
      "cell_type": "code",
      "metadata": {
        "colab": {
          "base_uri": "https://localhost:8080/"
        },
        "id": "qJE-82hHJdMS",
        "outputId": "642b528c-58af-468d-cb1c-8c255c1da0d0"
      },
      "source": [
        "# calculating results for train set\r\n",
        "train_pred = 0\r\n",
        "train_pred_result = []\r\n",
        "for K in range(len(k_values)):\r\n",
        "    # element wise comparison to find the accuracy\r\n",
        "    for l1,l2 in zip(train_pred_lists[K], y_train.tolist()):\r\n",
        "        if l1 == l2:\r\n",
        "            # increment when there is a match\r\n",
        "            train_pred += 1\r\n",
        "    accuracy = train_pred/6000\r\n",
        "    train_pred_result.append((round(accuracy*100,2)))\r\n",
        "    print('The train accuracy is '+str(round(accuracy*100,2))+'% for K='+str(k_values[K]))\r\n",
        "    train_pred = 0"
      ],
      "execution_count": 28,
      "outputs": [
        {
          "output_type": "stream",
          "text": [
            "The train accuracy is 9.43% for K=3\n",
            "The train accuracy is 9.2% for K=5\n",
            "The train accuracy is 9.07% for K=7\n"
          ],
          "name": "stdout"
        }
      ]
    },
    {
      "cell_type": "code",
      "metadata": {
        "colab": {
          "base_uri": "https://localhost:8080/"
        },
        "id": "mAbRHh3hJffc",
        "outputId": "097f1954-dac8-41a3-d96e-7c4b2e450cd8"
      },
      "source": [
        "test_pred = 0\r\n",
        "test_pred_result = []\r\n",
        "for K in range(len(k_values)):\r\n",
        "    for l1,l2 in zip(test_pred_lists[K], y_test.tolist()):\r\n",
        "        if l1 == l2:\r\n",
        "            test_pred += 1\r\n",
        "    accuracy = test_pred/1000\r\n",
        "    test_pred_result.append((round(accuracy*100,2)))\r\n",
        "    print('The test accuracy is '+str(accuracy*100)+'% for K='+str(k_values[K]))\r\n",
        "    test_pred = 0"
      ],
      "execution_count": 29,
      "outputs": [
        {
          "output_type": "stream",
          "text": [
            "The test accuracy is 7.9% for K=3\n",
            "The test accuracy is 7.9% for K=5\n",
            "The test accuracy is 7.6% for K=7\n"
          ],
          "name": "stdout"
        }
      ]
    },
    {
      "cell_type": "code",
      "metadata": {
        "colab": {
          "base_uri": "https://localhost:8080/",
          "height": 142
        },
        "id": "ngupNS5qJjXp",
        "outputId": "61641372-eb51-43bb-c5a2-3e2d4be65853"
      },
      "source": [
        "# getting all the results for train and test in a dataframe\r\n",
        "df_result = pd.DataFrame()\r\n",
        "df_result['K value'] = k_values\r\n",
        "df_result['train pred'] = train_pred_result\r\n",
        "df_result['test pred'] = test_pred_result\r\n",
        "df_result"
      ],
      "execution_count": 30,
      "outputs": [
        {
          "output_type": "execute_result",
          "data": {
            "text/html": [
              "<div>\n",
              "<style scoped>\n",
              "    .dataframe tbody tr th:only-of-type {\n",
              "        vertical-align: middle;\n",
              "    }\n",
              "\n",
              "    .dataframe tbody tr th {\n",
              "        vertical-align: top;\n",
              "    }\n",
              "\n",
              "    .dataframe thead th {\n",
              "        text-align: right;\n",
              "    }\n",
              "</style>\n",
              "<table border=\"1\" class=\"dataframe\">\n",
              "  <thead>\n",
              "    <tr style=\"text-align: right;\">\n",
              "      <th></th>\n",
              "      <th>K value</th>\n",
              "      <th>train pred</th>\n",
              "      <th>test pred</th>\n",
              "    </tr>\n",
              "  </thead>\n",
              "  <tbody>\n",
              "    <tr>\n",
              "      <th>0</th>\n",
              "      <td>3</td>\n",
              "      <td>9.43</td>\n",
              "      <td>7.9</td>\n",
              "    </tr>\n",
              "    <tr>\n",
              "      <th>1</th>\n",
              "      <td>5</td>\n",
              "      <td>9.20</td>\n",
              "      <td>7.9</td>\n",
              "    </tr>\n",
              "    <tr>\n",
              "      <th>2</th>\n",
              "      <td>7</td>\n",
              "      <td>9.07</td>\n",
              "      <td>7.6</td>\n",
              "    </tr>\n",
              "  </tbody>\n",
              "</table>\n",
              "</div>"
            ],
            "text/plain": [
              "   K value  train pred  test pred\n",
              "0        3        9.43        7.9\n",
              "1        5        9.20        7.9\n",
              "2        7        9.07        7.6"
            ]
          },
          "metadata": {
            "tags": []
          },
          "execution_count": 30
        }
      ]
    },
    {
      "cell_type": "code",
      "metadata": {
        "colab": {
          "base_uri": "https://localhost:8080/",
          "height": 295
        },
        "id": "JJ1SXAXfJvgL",
        "outputId": "7f16094e-c232-4f0a-ad4d-0a92ff087428"
      },
      "source": [
        "plt.plot(df_result['K value'], df_result['train pred'])\r\n",
        "plt.xlabel('K value')\r\n",
        "plt.ylabel('Training accuracy (%)')\r\n",
        "plt.title('Accuracy for train set')\r\n",
        "plt.show()"
      ],
      "execution_count": 31,
      "outputs": [
        {
          "output_type": "display_data",
          "data": {
            "image/png": "[encoded data removed]",
            "text/plain": [
              "<Figure size 432x288 with 1 Axes>"
            ]
          },
          "metadata": {
            "tags": [],
            "needs_background": "light"
          }
        }
      ]
    },
    {
      "cell_type": "code",
      "metadata": {
        "colab": {
          "base_uri": "https://localhost:8080/",
          "height": 295
        },
        "id": "MQJtBwjHJxHE",
        "outputId": "dcae24c7-5757-4585-8144-ad9ecb64d249"
      },
      "source": [
        "plt.plot(df_result['K value'], df_result['test pred'])\r\n",
        "plt.xlabel('K value')\r\n",
        "plt.ylabel('Testing accuracy (%)')\r\n",
        "plt.title('Accuracy for test set')\r\n",
        "plt.show()"
      ],
      "execution_count": 32,
      "outputs": [
        {
          "output_type": "display_data",
          "data": {
            "image/png": "[encoded data removed]",
            "text/plain": [
              "<Figure size 432x288 with 1 Axes>"
            ]
          },
          "metadata": {
            "tags": [],
            "needs_background": "light"
          }
        }
      ]
    },
    {
      "cell_type": "code",
      "metadata": {
        "colab": {
          "base_uri": "https://localhost:8080/",
          "height": 295
        },
        "id": "EOLJguyXJ1Q8",
        "outputId": "f491fbad-bed2-4fca-a84b-4ab689db1f6a"
      },
      "source": [
        "plt.plot(df_result['K value'], df_result['train pred'], 'r', label = 'train pred')\r\n",
        "plt.plot(df_result['K value'], df_result['test pred'], 'g', label = 'test pred')\r\n",
        "plt.legend(loc='upper right')\r\n",
        "plt.xlabel('K value')\r\n",
        "plt.ylabel('Accuracy (%)')\r\n",
        "plt.title('Accuracy for train and test set')\r\n",
        "plt.show()"
      ],
      "execution_count": 33,
      "outputs": [
        {
          "output_type": "display_data",
          "data": {
            "image/png": "[encoded data removed]",
            "text/plain": [
              "<Figure size 432x288 with 1 Axes>"
            ]
          },
          "metadata": {
            "tags": [],
            "needs_background": "light"
          }
        }
      ]
    }
  ]
}